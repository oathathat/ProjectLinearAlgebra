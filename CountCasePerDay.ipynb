{
 "cells": [
  {
   "cell_type": "code",
   "execution_count": 40,
   "metadata": {},
   "outputs": [],
   "source": [
    "import seaborn as sns\n",
    "import pandas as pd\n",
    "import numpy as np\n",
    "import matplotlib.pyplot as plt\n",
    "from seaborn.rcmod import set_style\n",
    "from sklearn.linear_model import LinearRegression\n",
    "from sklearn.preprocessing import PolynomialFeatures\n",
    "from sklearn.metrics import mean_absolute_error,mean_squared_error,r2_score\n",
    "import joblib\n",
    "%matplotlib inline"
   ]
  },
  {
   "cell_type": "code",
   "execution_count": 28,
   "metadata": {},
   "outputs": [
    {
     "name": "stderr",
     "output_type": "stream",
     "text": [
      "C:\\ProgramData\\Anaconda3\\lib\\site-packages\\IPython\\core\\interactiveshell.py:3165: DtypeWarning: Columns (5) have mixed types.Specify dtype option on import or set low_memory=False.\n",
      "  has_raised = await self.run_ast_nodes(code_ast.body, cell_name,\n"
     ]
    },
    {
     "data": {
      "text/plain": [
       "(960610, 10)"
      ]
     },
     "execution_count": 28,
     "metadata": {},
     "output_type": "execute_result"
    }
   ],
   "source": [
    "uri = 'data/updateCovid19.csv' #ชื่อไฟล์\n",
    "df = pd.read_csv(uri)\n",
    "df.head()\n",
    "df.shape"
   ]
  },
  {
   "cell_type": "code",
   "execution_count": 29,
   "metadata": {},
   "outputs": [
    {
     "name": "stderr",
     "output_type": "stream",
     "text": [
      "<ipython-input-29-4c42133b0b53>:1: UserWarning: Pandas doesn't allow columns to be created via a new attribute name - see https://pandas.pydata.org/pandas-docs/stable/indexing.html#attribute-access\n",
      "  df.Date = pd.to_datetime(df.txn_date, format= '%Y-%m-%d')\n"
     ]
    },
    {
     "data": {
      "text/plain": [
       "<bound method DataFrame.info of            gender  age_number age_range nationality  job  \\\n",
       "txn_date                                                   \n",
       "2021-08-21   หญิง        71.0  >= 70 ปี        Thai  NaN   \n",
       "2021-08-21   หญิง        83.0  >= 70 ปี        Thai  NaN   \n",
       "2021-08-21   หญิง        91.0  >= 70 ปี        Thai  NaN   \n",
       "2021-08-21   หญิง        76.0  >= 70 ปี        Thai  NaN   \n",
       "2021-08-21   หญิง        91.0  >= 70 ปี        Thai  NaN   \n",
       "...           ...         ...       ...         ...  ...   \n",
       "2021-11-10    ชาย         NaN   ไม่ระบุ         NaN  NaN   \n",
       "2021-11-10    ชาย         NaN   ไม่ระบุ         NaN  NaN   \n",
       "2021-11-10    ชาย         NaN   ไม่ระบุ         NaN  NaN   \n",
       "2021-11-10    ชาย         NaN   ไม่ระบุ         NaN  NaN   \n",
       "2021-11-10    ชาย         NaN   ไม่ระบุ         NaN  NaN   \n",
       "\n",
       "                                                     risk  \\\n",
       "txn_date                                                    \n",
       "2021-08-21                                          อื่นๆ   \n",
       "2021-08-21                                          อื่นๆ   \n",
       "2021-08-21                                          อื่นๆ   \n",
       "2021-08-21  ไปสถานที่ชุมชน เช่น ตลาดนัด สถานที่ท่องเที่ยว   \n",
       "2021-08-21  ไปสถานที่ชุมชน เช่น ตลาดนัด สถานที่ท่องเที่ยว   \n",
       "...                                                   ...   \n",
       "2021-11-10                               ทัณฑสถาน/เรือนจำ   \n",
       "2021-11-10                               ทัณฑสถาน/เรือนจำ   \n",
       "2021-11-10                               ทัณฑสถาน/เรือนจำ   \n",
       "2021-11-10                               ทัณฑสถาน/เรือนจำ   \n",
       "2021-11-10                               ทัณฑสถาน/เรือนจำ   \n",
       "\n",
       "                           patient_type       province          update_date  \n",
       "txn_date                                                                     \n",
       "2021-08-21                     10.อื่นๆ       เพชรบุรี  2021-09-01 07:40:49  \n",
       "2021-08-21                     10.อื่นๆ      เพชรบูรณ์  2021-09-01 07:40:49  \n",
       "2021-08-21                     10.อื่นๆ           แพร่  2021-09-01 07:40:49  \n",
       "2021-08-21                     10.อื่นๆ        นนทบุรี  2021-09-01 07:40:49  \n",
       "2021-08-21                     10.อื่นๆ        นนทบุรี  2021-09-01 07:40:49  \n",
       "...                                 ...            ...                  ...  \n",
       "2021-11-10  8.สำรวจกลุ่มเสี่ยง (survey)  กรุงเทพมหานคร  2021-11-10 07:32:00  \n",
       "2021-11-10  8.สำรวจกลุ่มเสี่ยง (survey)  กรุงเทพมหานคร  2021-11-10 07:32:00  \n",
       "2021-11-10  8.สำรวจกลุ่มเสี่ยง (survey)  กรุงเทพมหานคร  2021-11-10 07:32:00  \n",
       "2021-11-10  8.สำรวจกลุ่มเสี่ยง (survey)  กรุงเทพมหานคร  2021-11-10 07:32:00  \n",
       "2021-11-10  8.สำรวจกลุ่มเสี่ยง (survey)  กรุงเทพมหานคร  2021-11-10 07:32:00  \n",
       "\n",
       "[960610 rows x 9 columns]>"
      ]
     },
     "execution_count": 29,
     "metadata": {},
     "output_type": "execute_result"
    }
   ],
   "source": [
    "df.Date = pd.to_datetime(df.txn_date, format= '%Y-%m-%d')\n",
    "df.set_index('txn_date',inplace=True)\n",
    "df.info"
   ]
  },
  {
   "cell_type": "code",
   "execution_count": 30,
   "metadata": {},
   "outputs": [
    {
     "name": "stderr",
     "output_type": "stream",
     "text": [
      "<ipython-input-30-13ca616f8bf8>:1: UserWarning: Pandas doesn't allow columns to be created via a new attribute name - see https://pandas.pydata.org/pandas-docs/stable/indexing.html#attribute-access\n",
      "  df.day = df.loc['2021-11-10']\n"
     ]
    },
    {
     "data": {
      "text/html": [
       "<div>\n",
       "<style scoped>\n",
       "    .dataframe tbody tr th:only-of-type {\n",
       "        vertical-align: middle;\n",
       "    }\n",
       "\n",
       "    .dataframe tbody tr th {\n",
       "        vertical-align: top;\n",
       "    }\n",
       "\n",
       "    .dataframe thead th {\n",
       "        text-align: right;\n",
       "    }\n",
       "</style>\n",
       "<table border=\"1\" class=\"dataframe\">\n",
       "  <thead>\n",
       "    <tr style=\"text-align: right;\">\n",
       "      <th></th>\n",
       "      <th>gender</th>\n",
       "      <th>age_number</th>\n",
       "      <th>age_range</th>\n",
       "      <th>nationality</th>\n",
       "      <th>job</th>\n",
       "      <th>risk</th>\n",
       "      <th>patient_type</th>\n",
       "      <th>province</th>\n",
       "      <th>update_date</th>\n",
       "    </tr>\n",
       "    <tr>\n",
       "      <th>txn_date</th>\n",
       "      <th></th>\n",
       "      <th></th>\n",
       "      <th></th>\n",
       "      <th></th>\n",
       "      <th></th>\n",
       "      <th></th>\n",
       "      <th></th>\n",
       "      <th></th>\n",
       "      <th></th>\n",
       "    </tr>\n",
       "  </thead>\n",
       "  <tbody>\n",
       "    <tr>\n",
       "      <th>2021-11-10</th>\n",
       "      <td>ชาย</td>\n",
       "      <td>NaN</td>\n",
       "      <td>ไม่ระบุ</td>\n",
       "      <td>Thai</td>\n",
       "      <td>NaN</td>\n",
       "      <td>สถานที่ทำงาน</td>\n",
       "      <td>10.อื่นๆ</td>\n",
       "      <td>อุดรธานี</td>\n",
       "      <td>2021-11-10 07:32:00</td>\n",
       "    </tr>\n",
       "    <tr>\n",
       "      <th>2021-11-10</th>\n",
       "      <td>หญิง</td>\n",
       "      <td>NaN</td>\n",
       "      <td>ไม่ระบุ</td>\n",
       "      <td>Thai</td>\n",
       "      <td>NaN</td>\n",
       "      <td>สถานที่ทำงาน</td>\n",
       "      <td>10.อื่นๆ</td>\n",
       "      <td>อุดรธานี</td>\n",
       "      <td>2021-11-10 07:32:00</td>\n",
       "    </tr>\n",
       "    <tr>\n",
       "      <th>2021-11-10</th>\n",
       "      <td>หญิง</td>\n",
       "      <td>NaN</td>\n",
       "      <td>ไม่ระบุ</td>\n",
       "      <td>Thai</td>\n",
       "      <td>NaN</td>\n",
       "      <td>สัมผัสใกล้ชิดกับผู้ป่วยยืนยันรายก่อนหน้านี้</td>\n",
       "      <td>2.สัมผัสผู้ติดเชื้อ</td>\n",
       "      <td>อุดรธานี</td>\n",
       "      <td>2021-11-10 07:32:00</td>\n",
       "    </tr>\n",
       "    <tr>\n",
       "      <th>2021-11-10</th>\n",
       "      <td>หญิง</td>\n",
       "      <td>NaN</td>\n",
       "      <td>ไม่ระบุ</td>\n",
       "      <td>Thai</td>\n",
       "      <td>NaN</td>\n",
       "      <td>สัมผัสใกล้ชิดกับผู้ป่วยยืนยันรายก่อนหน้านี้</td>\n",
       "      <td>2.สัมผัสผู้ติดเชื้อ</td>\n",
       "      <td>อุดรธานี</td>\n",
       "      <td>2021-11-10 07:32:00</td>\n",
       "    </tr>\n",
       "    <tr>\n",
       "      <th>2021-11-10</th>\n",
       "      <td>ชาย</td>\n",
       "      <td>NaN</td>\n",
       "      <td>ไม่ระบุ</td>\n",
       "      <td>Thai</td>\n",
       "      <td>NaN</td>\n",
       "      <td>อื่นๆ</td>\n",
       "      <td>10.อื่นๆ</td>\n",
       "      <td>อุดรธานี</td>\n",
       "      <td>2021-11-10 07:32:00</td>\n",
       "    </tr>\n",
       "    <tr>\n",
       "      <th>...</th>\n",
       "      <td>...</td>\n",
       "      <td>...</td>\n",
       "      <td>...</td>\n",
       "      <td>...</td>\n",
       "      <td>...</td>\n",
       "      <td>...</td>\n",
       "      <td>...</td>\n",
       "      <td>...</td>\n",
       "      <td>...</td>\n",
       "    </tr>\n",
       "    <tr>\n",
       "      <th>2021-11-10</th>\n",
       "      <td>ชาย</td>\n",
       "      <td>NaN</td>\n",
       "      <td>ไม่ระบุ</td>\n",
       "      <td>NaN</td>\n",
       "      <td>NaN</td>\n",
       "      <td>ทัณฑสถาน/เรือนจำ</td>\n",
       "      <td>8.สำรวจกลุ่มเสี่ยง (survey)</td>\n",
       "      <td>กรุงเทพมหานคร</td>\n",
       "      <td>2021-11-10 07:32:00</td>\n",
       "    </tr>\n",
       "    <tr>\n",
       "      <th>2021-11-10</th>\n",
       "      <td>ชาย</td>\n",
       "      <td>NaN</td>\n",
       "      <td>ไม่ระบุ</td>\n",
       "      <td>NaN</td>\n",
       "      <td>NaN</td>\n",
       "      <td>ทัณฑสถาน/เรือนจำ</td>\n",
       "      <td>8.สำรวจกลุ่มเสี่ยง (survey)</td>\n",
       "      <td>กรุงเทพมหานคร</td>\n",
       "      <td>2021-11-10 07:32:00</td>\n",
       "    </tr>\n",
       "    <tr>\n",
       "      <th>2021-11-10</th>\n",
       "      <td>ชาย</td>\n",
       "      <td>NaN</td>\n",
       "      <td>ไม่ระบุ</td>\n",
       "      <td>NaN</td>\n",
       "      <td>NaN</td>\n",
       "      <td>ทัณฑสถาน/เรือนจำ</td>\n",
       "      <td>8.สำรวจกลุ่มเสี่ยง (survey)</td>\n",
       "      <td>กรุงเทพมหานคร</td>\n",
       "      <td>2021-11-10 07:32:00</td>\n",
       "    </tr>\n",
       "    <tr>\n",
       "      <th>2021-11-10</th>\n",
       "      <td>ชาย</td>\n",
       "      <td>NaN</td>\n",
       "      <td>ไม่ระบุ</td>\n",
       "      <td>NaN</td>\n",
       "      <td>NaN</td>\n",
       "      <td>ทัณฑสถาน/เรือนจำ</td>\n",
       "      <td>8.สำรวจกลุ่มเสี่ยง (survey)</td>\n",
       "      <td>กรุงเทพมหานคร</td>\n",
       "      <td>2021-11-10 07:32:00</td>\n",
       "    </tr>\n",
       "    <tr>\n",
       "      <th>2021-11-10</th>\n",
       "      <td>ชาย</td>\n",
       "      <td>NaN</td>\n",
       "      <td>ไม่ระบุ</td>\n",
       "      <td>NaN</td>\n",
       "      <td>NaN</td>\n",
       "      <td>ทัณฑสถาน/เรือนจำ</td>\n",
       "      <td>8.สำรวจกลุ่มเสี่ยง (survey)</td>\n",
       "      <td>กรุงเทพมหานคร</td>\n",
       "      <td>2021-11-10 07:32:00</td>\n",
       "    </tr>\n",
       "  </tbody>\n",
       "</table>\n",
       "<p>6978 rows × 9 columns</p>\n",
       "</div>"
      ],
      "text/plain": [
       "           gender  age_number age_range nationality  job  \\\n",
       "txn_date                                                   \n",
       "2021-11-10    ชาย         NaN   ไม่ระบุ        Thai  NaN   \n",
       "2021-11-10   หญิง         NaN   ไม่ระบุ        Thai  NaN   \n",
       "2021-11-10   หญิง         NaN   ไม่ระบุ        Thai  NaN   \n",
       "2021-11-10   หญิง         NaN   ไม่ระบุ        Thai  NaN   \n",
       "2021-11-10    ชาย         NaN   ไม่ระบุ        Thai  NaN   \n",
       "...           ...         ...       ...         ...  ...   \n",
       "2021-11-10    ชาย         NaN   ไม่ระบุ         NaN  NaN   \n",
       "2021-11-10    ชาย         NaN   ไม่ระบุ         NaN  NaN   \n",
       "2021-11-10    ชาย         NaN   ไม่ระบุ         NaN  NaN   \n",
       "2021-11-10    ชาย         NaN   ไม่ระบุ         NaN  NaN   \n",
       "2021-11-10    ชาย         NaN   ไม่ระบุ         NaN  NaN   \n",
       "\n",
       "                                                   risk  \\\n",
       "txn_date                                                  \n",
       "2021-11-10                                 สถานที่ทำงาน   \n",
       "2021-11-10                                 สถานที่ทำงาน   \n",
       "2021-11-10  สัมผัสใกล้ชิดกับผู้ป่วยยืนยันรายก่อนหน้านี้   \n",
       "2021-11-10  สัมผัสใกล้ชิดกับผู้ป่วยยืนยันรายก่อนหน้านี้   \n",
       "2021-11-10                                        อื่นๆ   \n",
       "...                                                 ...   \n",
       "2021-11-10                             ทัณฑสถาน/เรือนจำ   \n",
       "2021-11-10                             ทัณฑสถาน/เรือนจำ   \n",
       "2021-11-10                             ทัณฑสถาน/เรือนจำ   \n",
       "2021-11-10                             ทัณฑสถาน/เรือนจำ   \n",
       "2021-11-10                             ทัณฑสถาน/เรือนจำ   \n",
       "\n",
       "                           patient_type       province          update_date  \n",
       "txn_date                                                                     \n",
       "2021-11-10                     10.อื่นๆ       อุดรธานี  2021-11-10 07:32:00  \n",
       "2021-11-10                     10.อื่นๆ       อุดรธานี  2021-11-10 07:32:00  \n",
       "2021-11-10          2.สัมผัสผู้ติดเชื้อ       อุดรธานี  2021-11-10 07:32:00  \n",
       "2021-11-10          2.สัมผัสผู้ติดเชื้อ       อุดรธานี  2021-11-10 07:32:00  \n",
       "2021-11-10                     10.อื่นๆ       อุดรธานี  2021-11-10 07:32:00  \n",
       "...                                 ...            ...                  ...  \n",
       "2021-11-10  8.สำรวจกลุ่มเสี่ยง (survey)  กรุงเทพมหานคร  2021-11-10 07:32:00  \n",
       "2021-11-10  8.สำรวจกลุ่มเสี่ยง (survey)  กรุงเทพมหานคร  2021-11-10 07:32:00  \n",
       "2021-11-10  8.สำรวจกลุ่มเสี่ยง (survey)  กรุงเทพมหานคร  2021-11-10 07:32:00  \n",
       "2021-11-10  8.สำรวจกลุ่มเสี่ยง (survey)  กรุงเทพมหานคร  2021-11-10 07:32:00  \n",
       "2021-11-10  8.สำรวจกลุ่มเสี่ยง (survey)  กรุงเทพมหานคร  2021-11-10 07:32:00  \n",
       "\n",
       "[6978 rows x 9 columns]"
      ]
     },
     "execution_count": 30,
     "metadata": {},
     "output_type": "execute_result"
    }
   ],
   "source": [
    "df.day = df.loc['2021-11-10']\n",
    "df.day"
   ]
  },
  {
   "cell_type": "code",
   "execution_count": 31,
   "metadata": {},
   "outputs": [
    {
     "data": {
      "text/plain": [
       "age_range\n",
       "10-19 ปี     681\n",
       "20-29 ปี    1146\n",
       "30-39 ปี    1064\n",
       "40-49 ปี     863\n",
       "50-59 ปี     702\n",
       "60-69 ปี     438\n",
       "< 10 ปี      746\n",
       ">= 70 ปี     324\n",
       "ไม่ระบุ     1014\n",
       "Name: age_range, dtype: int64"
      ]
     },
     "execution_count": 31,
     "metadata": {},
     "output_type": "execute_result"
    }
   ],
   "source": [
    "col ='age_range'\n",
    "df.day.groupby(col)[col].count()"
   ]
  },
  {
   "cell_type": "code",
   "execution_count": 32,
   "metadata": {},
   "outputs": [
    {
     "data": {
      "text/plain": [
       "[681, 1146, 1064, 863, 702, 438, 746, 324, 1014]"
      ]
     },
     "execution_count": 32,
     "metadata": {},
     "output_type": "execute_result"
    }
   ],
   "source": [
    "agelst =[[],\n",
    "         [],  \n",
    "         [],\n",
    "         [],\n",
    "         [],\n",
    "         [],  \n",
    "         [],\n",
    "         []]\n",
    "list(df.day.groupby(col)[col].count())"
   ]
  },
  {
   "cell_type": "code",
   "execution_count": 33,
   "metadata": {},
   "outputs": [],
   "source": [
    "#aug 23-31\n",
    "for e in range(23,32):    \n",
    "    fdate = f'2021-08-{e}'\n",
    "    df.day = df.loc[fdate]\n",
    "    lst = list(df.day.groupby(col)[col].count())\n",
    "    for i in range(0,8):\n",
    "        agelst[i].append(lst[i])\n",
    "#sep 1-30\n",
    "for e in range(1,31):\n",
    "    if e>9:\n",
    "        fdate = f'2021-09-{e}'\n",
    "    else:\n",
    "        fdate = f'2021-09-0{e}'\n",
    "    df.day = df.loc[fdate]\n",
    "    lst = list(df.day.groupby(col)[col].count())\n",
    "    for i in range(0,8):\n",
    "        agelst[i].append(lst[i])\n",
    "#oct 1-31\n",
    "for e in range(1,32):\n",
    "    if e>9:\n",
    "        fdate = f'2021-10-{e}'\n",
    "    else:\n",
    "        fdate = f'2021-10-0{e}'\n",
    "    df.day = df.loc[fdate]\n",
    "    lst = list(df.day.groupby(col)[col].count())\n",
    "    for i in range(0,8):\n",
    "        agelst[i].append(lst[i])\n",
    "#nov 1-10\n",
    "for e in range(1,11):\n",
    "    if e>9:\n",
    "        fdate = f'2021-11-{e}'\n",
    "    else:\n",
    "        fdate = f'2021-11-0{e}'\n",
    "    df.day = df.loc[fdate]\n",
    "    lst = list(df.day.groupby(col)[col].count())\n",
    "    for i in range(0,8):\n",
    "        agelst[i].append(lst[i])\n"
   ]
  },
  {
   "cell_type": "code",
   "execution_count": 34,
   "metadata": {},
   "outputs": [
    {
     "name": "stdout",
     "output_type": "stream",
     "text": [
      "80\n",
      "80\n",
      "80\n",
      "80\n",
      "80\n",
      "80\n",
      "80\n",
      "80\n"
     ]
    }
   ],
   "source": [
    "agelstCol = ['<10','10-19','20-29','30-39','40-49','50-59','60-69','>70']\n",
    "for i in range(8):\n",
    " print(len(agelst[i]))"
   ]
  },
  {
   "cell_type": "code",
   "execution_count": 35,
   "metadata": {},
   "outputs": [
    {
     "data": {
      "text/plain": [
       "DatetimeIndex(['2021-08-23', '2021-08-24', '2021-08-25', '2021-08-26',\n",
       "               '2021-08-27', '2021-08-28', '2021-08-29', '2021-08-30',\n",
       "               '2021-08-31', '2021-09-01', '2021-09-02', '2021-09-03',\n",
       "               '2021-09-04', '2021-09-05', '2021-09-06', '2021-09-07',\n",
       "               '2021-09-08', '2021-09-09', '2021-09-10', '2021-09-11',\n",
       "               '2021-09-12', '2021-09-13', '2021-09-14', '2021-09-15',\n",
       "               '2021-09-16', '2021-09-17', '2021-09-18', '2021-09-19',\n",
       "               '2021-09-20', '2021-09-21', '2021-09-22', '2021-09-23',\n",
       "               '2021-09-24', '2021-09-25', '2021-09-26', '2021-09-27',\n",
       "               '2021-09-28', '2021-09-29', '2021-09-30', '2021-10-01',\n",
       "               '2021-10-02', '2021-10-03', '2021-10-04', '2021-10-05',\n",
       "               '2021-10-06', '2021-10-07', '2021-10-08', '2021-10-09',\n",
       "               '2021-10-10', '2021-10-11', '2021-10-12', '2021-10-13',\n",
       "               '2021-10-14', '2021-10-15', '2021-10-16', '2021-10-17',\n",
       "               '2021-10-18', '2021-10-19', '2021-10-20', '2021-10-21',\n",
       "               '2021-10-22', '2021-10-23', '2021-10-24', '2021-10-25',\n",
       "               '2021-10-26', '2021-10-27', '2021-10-28', '2021-10-29',\n",
       "               '2021-10-30', '2021-10-31', '2021-11-01', '2021-11-02',\n",
       "               '2021-11-03', '2021-11-04', '2021-11-05', '2021-11-06',\n",
       "               '2021-11-07', '2021-11-08', '2021-11-09', '2021-11-10'],\n",
       "              dtype='datetime64[ns]', freq='D')"
      ]
     },
     "execution_count": 35,
     "metadata": {},
     "output_type": "execute_result"
    }
   ],
   "source": [
    "#สร้างวัน\n",
    "dateAndtime = pd.date_range('2021-08-23','2021-11-10', freq=\"D\")\n",
    "dateAndtime"
   ]
  },
  {
   "cell_type": "code",
   "execution_count": 36,
   "metadata": {},
   "outputs": [],
   "source": [
    "zipdata = list(zip(agelst[0],agelst[1],agelst[2],agelst[3],agelst[4],agelst[5],agelst[6],agelst[7]))\n",
    "ageDataframe = pd.DataFrame(zipdata,columns= agelstCol,index=dateAndtime)\n",
    "ageDataframe\n",
    "ageDataframe.to_csv('data/RealCovid19.csv')"
   ]
  }
 ],
 "metadata": {
  "interpreter": {
   "hash": "b3ba2566441a7c06988d0923437866b63cedc61552a5af99d1f4fb67d367b25f"
  },
  "kernelspec": {
   "display_name": "Python 3.8.8 64-bit ('base': conda)",
   "name": "python3"
  },
  "language_info": {
   "codemirror_mode": {
    "name": "ipython",
    "version": 3
   },
   "file_extension": ".py",
   "mimetype": "text/x-python",
   "name": "python",
   "nbconvert_exporter": "python",
   "pygments_lexer": "ipython3",
   "version": "3.8.8"
  },
  "orig_nbformat": 4
 },
 "nbformat": 4,
 "nbformat_minor": 2
}
